{
 "cells": [
  {
   "cell_type": "markdown",
   "metadata": {},
   "source": [
    "#### `sys.path.append(os.path.abspath(os.path.join(os.path.dirname(__file__), '../../')))`\n",
    "\n",
    "##### This code adds the parent directory of the current file to the system path (sys.path).\n",
    "##### Specifically, it calculates the absolute path of the parent directory by navigating two levels up from the directory\n",
    "##### of the current script (i.e., `__file__`). This is achieved by combining the current file's directory with `../../` to \n",
    "##### reach the parent directory and then converting it to an absolute path using `os.path.abspath`.\n",
    "\n",
    "##### By appending this path to `sys.path`, Python will be able to locate and import modules from the parent directory.\n",
    "##### This is particularly useful in scenarios where the project structure requires importing modules located in\n",
    "##### higher-level directories relative to the script's location.\n"
   ]
  }
 ],
 "metadata": {
  "language_info": {
   "name": "python"
  }
 },
 "nbformat": 4,
 "nbformat_minor": 2
}
